{
 "cells": [
  {
   "cell_type": "markdown",
   "metadata": {},
   "source": [
    "### Visualizing Filters and Feature Maps for Deep Learning"
   ]
  },
  {
   "cell_type": "markdown",
   "metadata": {},
   "source": [
    "We now have the ability to visualise the filters that Convolutional Neural Networks (CNNs) learn from their training for \n",
    "Computer Vision tasks, and the feature maps that the CNN produces when applied to an image."
   ]
  },
  {
   "cell_type": "markdown",
   "metadata": {},
   "source": [
    "Visualise the filters and feature maps of a CNN trained for image classification using Keras"
   ]
  },
  {
   "cell_type": "markdown",
   "metadata": {},
   "source": [
    "### Pick a model to visualize"
   ]
  },
  {
   "cell_type": "markdown",
   "metadata": {},
   "source": [
    "The easiest way to do this in Keras is to select a pre-trained image classification model. Keras lots of these top-performing\n",
    "models, All of them were trained on the ImageNet dataset with over a million images.Pick out the VGG16 Model."
   ]
  },
  {
   "cell_type": "markdown",
   "metadata": {},
   "source": [
    "When we import the model from keras.applications, Keras will automatically download the weights in the appropriate directory.\n",
    "We then load the model and print out a summary of its structure."
   ]
  },
  {
   "cell_type": "code",
   "execution_count": 4,
   "metadata": {},
   "outputs": [
    {
     "name": "stdout",
     "output_type": "stream",
     "text": [
      "Downloading data from https://github.com/fchollet/deep-learning-models/releases/download/v0.1/vgg16_weights_tf_dim_ordering_tf_kernels.h5\n",
      "553467904/553467096 [==============================] - 459s 1us/step\n"
     ]
    }
   ],
   "source": [
    "from keras.applications.vgg16 import VGG16\n",
    "#Load the model\n",
    "\n",
    "model=VGG16()\n"
   ]
  },
  {
   "cell_type": "code",
   "execution_count": 5,
   "metadata": {},
   "outputs": [
    {
     "name": "stdout",
     "output_type": "stream",
     "text": [
      "Model: \"vgg16\"\n",
      "_________________________________________________________________\n",
      "Layer (type)                 Output Shape              Param #   \n",
      "=================================================================\n",
      "input_1 (InputLayer)         (None, 224, 224, 3)       0         \n",
      "_________________________________________________________________\n",
      "block1_conv1 (Conv2D)        (None, 224, 224, 64)      1792      \n",
      "_________________________________________________________________\n",
      "block1_conv2 (Conv2D)        (None, 224, 224, 64)      36928     \n",
      "_________________________________________________________________\n",
      "block1_pool (MaxPooling2D)   (None, 112, 112, 64)      0         \n",
      "_________________________________________________________________\n",
      "block2_conv1 (Conv2D)        (None, 112, 112, 128)     73856     \n",
      "_________________________________________________________________\n",
      "block2_conv2 (Conv2D)        (None, 112, 112, 128)     147584    \n",
      "_________________________________________________________________\n",
      "block2_pool (MaxPooling2D)   (None, 56, 56, 128)       0         \n",
      "_________________________________________________________________\n",
      "block3_conv1 (Conv2D)        (None, 56, 56, 256)       295168    \n",
      "_________________________________________________________________\n",
      "block3_conv2 (Conv2D)        (None, 56, 56, 256)       590080    \n",
      "_________________________________________________________________\n",
      "block3_conv3 (Conv2D)        (None, 56, 56, 256)       590080    \n",
      "_________________________________________________________________\n",
      "block3_pool (MaxPooling2D)   (None, 28, 28, 256)       0         \n",
      "_________________________________________________________________\n",
      "block4_conv1 (Conv2D)        (None, 28, 28, 512)       1180160   \n",
      "_________________________________________________________________\n",
      "block4_conv2 (Conv2D)        (None, 28, 28, 512)       2359808   \n",
      "_________________________________________________________________\n",
      "block4_conv3 (Conv2D)        (None, 28, 28, 512)       2359808   \n",
      "_________________________________________________________________\n",
      "block4_pool (MaxPooling2D)   (None, 14, 14, 512)       0         \n",
      "_________________________________________________________________\n",
      "block5_conv1 (Conv2D)        (None, 14, 14, 512)       2359808   \n",
      "_________________________________________________________________\n",
      "block5_conv2 (Conv2D)        (None, 14, 14, 512)       2359808   \n",
      "_________________________________________________________________\n",
      "block5_conv3 (Conv2D)        (None, 14, 14, 512)       2359808   \n",
      "_________________________________________________________________\n",
      "block5_pool (MaxPooling2D)   (None, 7, 7, 512)         0         \n",
      "_________________________________________________________________\n",
      "flatten (Flatten)            (None, 25088)             0         \n",
      "_________________________________________________________________\n",
      "fc1 (Dense)                  (None, 4096)              102764544 \n",
      "_________________________________________________________________\n",
      "fc2 (Dense)                  (None, 4096)              16781312  \n",
      "_________________________________________________________________\n",
      "predictions (Dense)          (None, 1000)              4097000   \n",
      "=================================================================\n",
      "Total params: 138,357,544\n",
      "Trainable params: 138,357,544\n",
      "Non-trainable params: 0\n",
      "_________________________________________________________________\n"
     ]
    }
   ],
   "source": [
    "model.summary()"
   ]
  },
  {
   "cell_type": "markdown",
   "metadata": {},
   "source": [
    "### Visualizing Filters"
   ]
  },
  {
   "cell_type": "code",
   "execution_count": 6,
   "metadata": {},
   "outputs": [],
   "source": [
    "import matplotlib.pyplot as plt\n",
    "import numpy as np"
   ]
  },
  {
   "cell_type": "code",
   "execution_count": 7,
   "metadata": {},
   "outputs": [],
   "source": [
    "layer_dict=dict([(layer.name,layer) for layer in model.layers])"
   ]
  },
  {
   "cell_type": "code",
   "execution_count": 15,
   "metadata": {},
   "outputs": [
    {
     "data": {
      "text/plain": [
       "{'input_1': <keras.engine.input_layer.InputLayer at 0x295d1bf6bc8>,\n",
       " 'block1_conv1': <keras.layers.convolutional.Conv2D at 0x295d1ba3548>,\n",
       " 'block1_conv2': <keras.layers.convolutional.Conv2D at 0x295d1acdf48>,\n",
       " 'block1_pool': <keras.layers.pooling.MaxPooling2D at 0x295d1ce9508>,\n",
       " 'block2_conv1': <keras.layers.convolutional.Conv2D at 0x295d147dd88>,\n",
       " 'block2_conv2': <keras.layers.convolutional.Conv2D at 0x295d1bcde08>,\n",
       " 'block2_pool': <keras.layers.pooling.MaxPooling2D at 0x295d1c3c0c8>,\n",
       " 'block3_conv1': <keras.layers.convolutional.Conv2D at 0x295d1d3c788>,\n",
       " 'block3_conv2': <keras.layers.convolutional.Conv2D at 0x295d1c0c3c8>,\n",
       " 'block3_conv3': <keras.layers.convolutional.Conv2D at 0x295d1dd9c88>,\n",
       " 'block3_pool': <keras.layers.pooling.MaxPooling2D at 0x295d1daf1c8>,\n",
       " 'block4_conv1': <keras.layers.convolutional.Conv2D at 0x295d1d98488>,\n",
       " 'block4_conv2': <keras.layers.convolutional.Conv2D at 0x295d1d85488>,\n",
       " 'block4_conv3': <keras.layers.convolutional.Conv2D at 0x295d1dec048>,\n",
       " 'block4_pool': <keras.layers.pooling.MaxPooling2D at 0x295d1d7aec8>,\n",
       " 'block5_conv1': <keras.layers.convolutional.Conv2D at 0x295d102dc48>,\n",
       " 'block5_conv2': <keras.layers.convolutional.Conv2D at 0x295d1c7f948>,\n",
       " 'block5_conv3': <keras.layers.convolutional.Conv2D at 0x295d1cb5c48>,\n",
       " 'block5_pool': <keras.layers.pooling.MaxPooling2D at 0x295d1cbce88>,\n",
       " 'flatten': <keras.layers.core.Flatten at 0x295d1cc3e48>,\n",
       " 'fc1': <keras.layers.core.Dense at 0x295d1cb3d08>,\n",
       " 'fc2': <keras.layers.core.Dense at 0x295d1cd8b08>,\n",
       " 'predictions': <keras.layers.core.Dense at 0x295d1ce1608>}"
      ]
     },
     "execution_count": 15,
     "metadata": {},
     "output_type": "execute_result"
    }
   ],
   "source": [
    "layer_dict"
   ]
  },
  {
   "cell_type": "code",
   "execution_count": 14,
   "metadata": {},
   "outputs": [
    {
     "data": {
      "text/plain": [
       "<keras.layers.convolutional.Conv2D at 0x295d102dc48>"
      ]
     },
     "execution_count": 14,
     "metadata": {},
     "output_type": "execute_result"
    }
   ],
   "source": [
    "layer_dict['block5_conv1']"
   ]
  },
  {
   "cell_type": "code",
   "execution_count": 16,
   "metadata": {},
   "outputs": [],
   "source": [
    "layer_name='block5_conv1'\n",
    "filter_index=0 # Which filter in this block we like to visualize\n",
    "#grab the filters and bias for that layer\n",
    "filters,bias = layer_dict[layer_name].get_weights()\n"
   ]
  },
  {
   "cell_type": "code",
   "execution_count": 21,
   "metadata": {},
   "outputs": [
    {
     "data": {
      "text/plain": [
       "numpy.ndarray"
      ]
     },
     "execution_count": 21,
     "metadata": {},
     "output_type": "execute_result"
    }
   ],
   "source": [
    "type(filters)"
   ]
  },
  {
   "cell_type": "code",
   "execution_count": 22,
   "metadata": {},
   "outputs": [],
   "source": [
    "#Normalize the filters to range 0 and 1 so we can visualize them\n",
    "f_min,f_max=np.amin(filters),np.amax(filters)"
   ]
  },
  {
   "cell_type": "code",
   "execution_count": 23,
   "metadata": {},
   "outputs": [
    {
     "data": {
      "text/plain": [
       "-0.113298565"
      ]
     },
     "execution_count": 23,
     "metadata": {},
     "output_type": "execute_result"
    }
   ],
   "source": [
    "f_min"
   ]
  },
  {
   "cell_type": "code",
   "execution_count": 24,
   "metadata": {},
   "outputs": [
    {
     "data": {
      "text/plain": [
       "0.1904444"
      ]
     },
     "execution_count": 24,
     "metadata": {},
     "output_type": "execute_result"
    }
   ],
   "source": [
    "f_max"
   ]
  },
  {
   "cell_type": "code",
   "execution_count": 28,
   "metadata": {},
   "outputs": [],
   "source": [
    "filters = (filters-f_min)/(f_max-f_min)"
   ]
  },
  {
   "cell_type": "code",
   "execution_count": 29,
   "metadata": {},
   "outputs": [
    {
     "data": {
      "text/plain": [
       "array([[[[0.37101   , 0.37769344, 0.39714557, ..., 0.3816266 ,\n",
       "          0.37443548, 0.36331734],\n",
       "         [0.35700595, 0.37462375, 0.36888897, ..., 0.37681392,\n",
       "          0.37259048, 0.32054812],\n",
       "         [0.40004942, 0.3976892 , 0.38763985, ..., 0.3381987 ,\n",
       "          0.3275626 , 0.366414  ],\n",
       "         ...,\n",
       "         [0.3796698 , 0.35378772, 0.36516398, ..., 0.37735143,\n",
       "          0.3443916 , 0.37030327],\n",
       "         [0.39915323, 0.34664136, 0.37555456, ..., 0.40297222,\n",
       "          0.37527433, 0.34053624],\n",
       "         [0.39707264, 0.3691865 , 0.39002463, ..., 0.36706668,\n",
       "          0.3727542 , 0.38478735]],\n",
       "\n",
       "        [[0.36798766, 0.3626128 , 0.38801128, ..., 0.34613183,\n",
       "          0.3461759 , 0.35380656],\n",
       "         [0.36899287, 0.35507107, 0.3450437 , ..., 0.37742555,\n",
       "          0.368437  , 0.31800282],\n",
       "         [0.36325127, 0.39584613, 0.3914547 , ..., 0.31122038,\n",
       "          0.35859072, 0.3469171 ],\n",
       "         ...,\n",
       "         [0.37075377, 0.36369056, 0.37724566, ..., 0.43437505,\n",
       "          0.32374972, 0.36858878],\n",
       "         [0.32231608, 0.36965016, 0.4085192 , ..., 0.40629956,\n",
       "          0.35001093, 0.3516883 ],\n",
       "         [0.40830237, 0.3623797 , 0.37267244, ..., 0.35732988,\n",
       "          0.4063281 , 0.3901695 ]],\n",
       "\n",
       "        [[0.38841668, 0.36792544, 0.40556726, ..., 0.36472782,\n",
       "          0.36145365, 0.35455012],\n",
       "         [0.40789574, 0.33993903, 0.37895486, ..., 0.36338702,\n",
       "          0.37567464, 0.30609804],\n",
       "         [0.36721116, 0.3805861 , 0.36783704, ..., 0.33381438,\n",
       "          0.3543657 , 0.36411107],\n",
       "         ...,\n",
       "         [0.34355447, 0.3482031 , 0.37544563, ..., 0.41339764,\n",
       "          0.32955503, 0.37290263],\n",
       "         [0.24406707, 0.34804597, 0.37758684, ..., 0.3511202 ,\n",
       "          0.3376719 , 0.3401435 ],\n",
       "         [0.39550295, 0.36629418, 0.3890793 , ..., 0.36556944,\n",
       "          0.3775655 , 0.39706665]]],\n",
       "\n",
       "\n",
       "       [[[0.38743636, 0.34516957, 0.3732088 , ..., 0.36783215,\n",
       "          0.3523169 , 0.35300836],\n",
       "         [0.30937442, 0.38855824, 0.39084715, ..., 0.370604  ,\n",
       "          0.39092442, 0.3272031 ],\n",
       "         [0.39119095, 0.38831097, 0.3474008 , ..., 0.37391523,\n",
       "          0.3300419 , 0.359982  ],\n",
       "         ...,\n",
       "         [0.3740675 , 0.3615229 , 0.33720604, ..., 0.40022764,\n",
       "          0.3362065 , 0.3979352 ],\n",
       "         [0.38638005, 0.34916583, 0.3684959 , ..., 0.4083925 ,\n",
       "          0.3705473 , 0.3345812 ],\n",
       "         [0.37696892, 0.3754635 , 0.38460365, ..., 0.3724169 ,\n",
       "          0.38259524, 0.39364827]],\n",
       "\n",
       "        [[0.37130553, 0.3272326 , 0.36425194, ..., 0.34579238,\n",
       "          0.30839288, 0.34854996],\n",
       "         [0.3530046 , 0.36981836, 0.39288163, ..., 0.34216213,\n",
       "          0.38739258, 0.32810473],\n",
       "         [0.3432068 , 0.40487105, 0.4016291 , ..., 0.4029838 ,\n",
       "          0.3409332 , 0.3478998 ],\n",
       "         ...,\n",
       "         [0.36039492, 0.37535772, 0.33444166, ..., 0.4285133 ,\n",
       "          0.31919718, 0.4155127 ],\n",
       "         [0.40333924, 0.3679589 , 0.39043227, ..., 0.38319138,\n",
       "          0.34064624, 0.37124264],\n",
       "         [0.38602075, 0.37609252, 0.3852975 , ..., 0.35457826,\n",
       "          0.40915787, 0.41284734]],\n",
       "\n",
       "        [[0.36716738, 0.33461186, 0.37831277, ..., 0.37343478,\n",
       "          0.33463755, 0.35493588],\n",
       "         [0.4234908 , 0.3502753 , 0.40592608, ..., 0.33249754,\n",
       "          0.3783973 , 0.31084663],\n",
       "         [0.37237388, 0.38223863, 0.36724886, ..., 0.45905992,\n",
       "          0.3420676 , 0.35798913],\n",
       "         ...,\n",
       "         [0.35179973, 0.36390767, 0.34418342, ..., 0.40872505,\n",
       "          0.3313145 , 0.40984324],\n",
       "         [0.32370147, 0.3464065 , 0.37687746, ..., 0.32621714,\n",
       "          0.32498354, 0.37119368],\n",
       "         [0.38935462, 0.37948   , 0.38753757, ..., 0.36234364,\n",
       "          0.38385972, 0.4061926 ]]],\n",
       "\n",
       "\n",
       "       [[[0.33740675, 0.36902115, 0.3864207 , ..., 0.36062598,\n",
       "          0.3453382 , 0.35947642],\n",
       "         [0.31982148, 0.3740959 , 0.38232997, ..., 0.38578182,\n",
       "          0.40883544, 0.33293194],\n",
       "         [0.41896588, 0.3865951 , 0.35447174, ..., 0.4019004 ,\n",
       "          0.36232832, 0.36170053],\n",
       "         ...,\n",
       "         [0.40320072, 0.35231316, 0.33149597, ..., 0.3785975 ,\n",
       "          0.34130695, 0.373179  ],\n",
       "         [0.3409097 , 0.3659364 , 0.30874044, ..., 0.36987358,\n",
       "          0.39382267, 0.3140847 ],\n",
       "         [0.38596404, 0.3887269 , 0.3798586 , ..., 0.4051225 ,\n",
       "          0.33026645, 0.38843665]],\n",
       "\n",
       "        [[0.35222068, 0.36642146, 0.37168053, ..., 0.39612648,\n",
       "          0.3296775 , 0.34912395],\n",
       "         [0.3494729 , 0.37548846, 0.37757346, ..., 0.35035378,\n",
       "          0.38937262, 0.3311406 ],\n",
       "         [0.36829555, 0.3978967 , 0.3638648 , ..., 0.4830192 ,\n",
       "          0.3598739 , 0.3501079 ],\n",
       "         ...,\n",
       "         [0.38691399, 0.35715854, 0.33947405, ..., 0.37074015,\n",
       "          0.3187519 , 0.37243113],\n",
       "         [0.35169864, 0.36085135, 0.3435859 , ..., 0.35439944,\n",
       "          0.37037402, 0.33995643],\n",
       "         [0.39210194, 0.38539305, 0.37830973, ..., 0.37123835,\n",
       "          0.31424224, 0.3898711 ]],\n",
       "\n",
       "        [[0.37521806, 0.36234406, 0.37560105, ..., 0.39681017,\n",
       "          0.35568655, 0.35891676],\n",
       "         [0.39098918, 0.36699468, 0.39949122, ..., 0.37119415,\n",
       "          0.3688782 , 0.31643736],\n",
       "         [0.3745611 , 0.39480388, 0.35532176, ..., 0.5073731 ,\n",
       "          0.36110568, 0.3560503 ],\n",
       "         ...,\n",
       "         [0.36923864, 0.35172504, 0.3317977 , ..., 0.35114285,\n",
       "          0.33742148, 0.3641344 ],\n",
       "         [0.3243934 , 0.35356605, 0.37008432, ..., 0.33790207,\n",
       "          0.35440898, 0.35680524],\n",
       "         [0.38718903, 0.38458297, 0.37455556, ..., 0.37221783,\n",
       "          0.3179642 , 0.38897017]]]], dtype=float32)"
      ]
     },
     "execution_count": 29,
     "metadata": {},
     "output_type": "execute_result"
    }
   ],
   "source": [
    "filters"
   ]
  },
  {
   "cell_type": "code",
   "execution_count": 33,
   "metadata": {},
   "outputs": [
    {
     "data": {
      "image/png": "[encoded data removed]",
      "text/plain": [
       "<Figure size 432x288 with 18 Axes>"
      ]
     },
     "metadata": {},
     "output_type": "display_data"
    }
   ],
   "source": [
    "#Plot first few filters\n",
    "n_filters,index = 6,1\n",
    "for i in range(n_filters):\n",
    "    f = filters[:,:,:,i]\n",
    "    #Plot each channel\n",
    "    for j in range(3):\n",
    "        ax=plt.subplot(n_filters,3,index)\n",
    "        ax.set_xticks([])\n",
    "        ax.set_yticks([])\n",
    "        \n",
    "        plt.imshow(f[:,:,j],cmap='viridis')# yellow represents 1 dark blue represents 0\n",
    "        index += 1\n",
    "plt.show()"
   ]
  },
  {
   "cell_type": "markdown",
   "metadata": {},
   "source": [
    "### Visualizing Feature Maps"
   ]
  },
  {
   "cell_type": "markdown",
   "metadata": {},
   "source": [
    "The reason for visualising a feature map for a specific input image is to try to gain some understanding of \n",
    "what features our CNN detects. It is also interesting to directly observe a common idea in Deep Learning, that the early layers of the network detect low-level features (colours, edges, etc) and the later layers of the network detect high-level features (shapes and objects)."
   ]
  },
  {
   "cell_type": "code",
   "execution_count": 39,
   "metadata": {},
   "outputs": [],
   "source": [
    "from keras.preprocessing.image import load_img,img_to_array\n",
    "from keras.models import Model\n",
    "from keras.applications.vgg16 import VGG16,preprocess_input"
   ]
  },
  {
   "cell_type": "code",
   "execution_count": 35,
   "metadata": {},
   "outputs": [
    {
     "data": {
      "text/plain": [
       "[<tf.Tensor 'input_1:0' shape=(None, 224, 224, 3) dtype=float32>]"
      ]
     },
     "execution_count": 35,
     "metadata": {},
     "output_type": "execute_result"
    }
   ],
   "source": [
    "model.inputs"
   ]
  },
  {
   "cell_type": "code",
   "execution_count": 38,
   "metadata": {},
   "outputs": [],
   "source": [
    "layer_name='block1_conv2'\n",
    "model=Model(inputs=model.inputs,outputs=layer_dict[layer_name].output)"
   ]
  },
  {
   "cell_type": "code",
   "execution_count": 40,
   "metadata": {},
   "outputs": [],
   "source": [
    "#Prepare the image\n",
    "image=load_img('San06-11-20.jpg',target_size=(224,224))\n",
    "image=img_to_array(image)\n",
    "image=np.expand_dims(image,axis=0)\n",
    "image=preprocess_input(image)"
   ]
  },
  {
   "cell_type": "code",
   "execution_count": 41,
   "metadata": {},
   "outputs": [],
   "source": [
    "#Apply the model to image\n",
    "feature_maps=model.predict(image)"
   ]
  },
  {
   "cell_type": "code",
   "execution_count": null,
   "metadata": {},
   "outputs": [],
   "source": [
    "np.set_printoptions(linewidth=110)\n",
    "square=8\n",
    "index=1\n",
    "\n",
    "for _ in range(square):\n",
    "    for _ in range(square):\n",
    "        ax=plt.subplot(square,square,index)\n",
    "        ax.set_xticks([])\n",
    "        ax.set_yticks([])\n",
    "        \n",
    "        plt.imshow(feature_maps[0,:,:,index-1],cmap='viridis')\n",
    "        index +=1\n",
    "plt.show()"
   ]
  },
  {
   "cell_type": "code",
   "execution_count": null,
   "metadata": {},
   "outputs": [],
   "source": []
  }
 ],
 "metadata": {
  "kernelspec": {
   "display_name": "Python 3",
   "language": "python",
   "name": "python3"
  },
  "language_info": {
   "codemirror_mode": {
    "name": "ipython",
    "version": 3
   },
   "file_extension": ".py",
   "mimetype": "text/x-python",
   "name": "python",
   "nbconvert_exporter": "python",
   "pygments_lexer": "ipython3",
   "version": "3.7.6"
  }
 },
 "nbformat": 4,
 "nbformat_minor": 4
}
